{
 "cells": [
  {
   "cell_type": "markdown",
   "metadata": {},
   "source": [
    "# Welcome to Jupyter!"
   ]
  },
  {
   "cell_type": "markdown",
   "metadata": {},
   "source": [
    "This repo contains an introduction to [Jupyter](https://jupyter.org) and [IPython](https://ipython.org).\n",
    "\n",
    "Outline of some basics:\n",
    "\n",
    "* [Notebook Basics](../examples/Notebook/Notebook%20Basics.ipynb)\n",
    "* [IPython - beyond plain python](../examples/IPython%20Kernel/Beyond%20Plain%20Python.ipynb)\n",
    "* [Markdown Cells](../examples/Notebook/Working%20With%20Markdown%20Cells.ipynb)\n",
    "* [Rich Display System](../examples/IPython%20Kernel/Rich%20Output.ipynb)\n",
    "* [Custom Display logic](../examples/IPython%20Kernel/Custom%20Display%20Logic.ipynb)\n",
    "* [Running a Secure Public Notebook Server](../examples/Notebook/Running%20the%20Notebook%20Server.ipynb#Securing-the-notebook-server)\n",
    "* [How Jupyter works](../examples/Notebook/Multiple%20Languages%2C%20Frontends.ipynb) to run code in different languages."
   ]
  },
  {
   "cell_type": "markdown",
   "metadata": {},
   "source": [
    "You can also get this tutorial and run it on your laptop:\n",
    "\n",
    "    git clone https://github.com/ipython/ipython-in-depth\n",
    "\n",
    "Install IPython and Jupyter:\n",
    "\n",
    "with [conda](https://www.anaconda.com/download):\n",
    "\n",
    "    conda install ipython jupyter\n",
    "\n",
    "with pip:\n",
    "\n",
    "    # first, always upgrade pip!\n",
    "    pip install --upgrade pip\n",
    "    pip install --upgrade ipython jupyter\n",
    "\n",
    "Start the notebook in the tutorial directory:\n",
    "\n",
    "    cd ipython-in-depth\n",
    "    jupyter notebook"
   ]
  },
  {
   "cell_type": "code",
   "execution_count": 1,
   "metadata": {},
   "outputs": [],
   "source": [
    "import numpy as np\n",
    "import timeit\n",
    "from matplotlib import pyplot as plt"
   ]
  },
  {
   "cell_type": "code",
   "execution_count": 2,
   "metadata": {},
   "outputs": [],
   "source": [
    "def f1():\n",
    "  n = 100\n",
    "  vectones = np.ones(n)\n",
    "\n",
    "def f2():\n",
    "  n = 100\n",
    "  vectones = []\n",
    "  for i in range(n):\n",
    "    vectones.append(i)\n",
    "    \n",
    "def f3():\n",
    "  n = 100\n",
    "  results = np.zeros(n,)\n",
    "  for i in range(n):\n",
    "    results[i] = 1    \n",
    "\n",
    "def f4():\n",
    "  n = 100\n",
    "  vectones = []\n",
    "  for i in range(n):\n",
    "    vectones.append(i)\n",
    "  vectones = np.asarray(vectones)\n",
    "\n",
    "def f5():\n",
    "  arr = np.ones(1)\n",
    "  for i in range(100):\n",
    "    arr = np.concatenate((arr, np.ones(1)))"
   ]
  },
  {
   "cell_type": "code",
   "execution_count": 3,
   "metadata": {},
   "outputs": [
    {
     "name": "stdout",
     "output_type": "stream",
     "text": [
      "0.3304572159831878\n",
      "0.7368460729776416\n",
      "1.0239977159944829\n",
      "1.5784246760013048\n",
      "42.20496672799345\n"
     ]
    }
   ],
   "source": [
    "if __name__ == '__main__':\n",
    "  a = timeit.timeit(f1, number=100000)\n",
    "  print(a)\n",
    "  b = timeit.timeit(f2, number=100000)  \n",
    "  print(b)\n",
    "  c = timeit.timeit(f3, number=100000)\n",
    "  print(c)\n",
    "  d = timeit.timeit(f4, number=100000)\n",
    "  print(d)\n",
    "  e = timeit.timeit(f5, number=100000)\n",
    "  print(e)"
   ]
  },
  {
   "cell_type": "code",
   "execution_count": 4,
   "metadata": {},
   "outputs": [],
   "source": [
    "labels = [\"f1\", \"f2\", \"f3\", \"f4\", \"f5\"]\n",
    "data = [a, b, c, d, e]"
   ]
  },
  {
   "cell_type": "code",
   "execution_count": 5,
   "metadata": {},
   "outputs": [
    {
     "data": {
      "text/plain": [
       "<BarContainer object of 5 artists>"
      ]
     },
     "execution_count": 5,
     "metadata": {},
     "output_type": "execute_result"
    },
    {
     "data": {
      "image/png": "[encoded data removed]",
      "text/plain": [
       "<Figure size 432x288 with 1 Axes>"
      ]
     },
     "metadata": {},
     "output_type": "display_data"
    }
   ],
   "source": [
    "plt.style.use(\"fivethirtyeight\")\n",
    "plt.title(\"Bar Chart of Seconds to Run Code\")\n",
    "plt.xlabel(\"method\")\n",
    "plt.ylabel(\"seconds\")\n",
    "plt.bar(labels, data, color=\"#444444\", label=\"some label\")"
   ]
  },
  {
   "cell_type": "code",
   "execution_count": null,
   "metadata": {},
   "outputs": [],
   "source": []
  }
 ],
 "metadata": {
  "kernelspec": {
   "display_name": "Python 3",
   "language": "python",
   "name": "python3"
  },
  "language_info": {
   "codemirror_mode": {
    "name": "ipython",
    "version": 3
   },
   "file_extension": ".py",
   "mimetype": "text/x-python",
   "name": "python",
   "nbconvert_exporter": "python",
   "pygments_lexer": "ipython3",
   "version": "3.6.13"
  }
 },
 "nbformat": 4,
 "nbformat_minor": 2
}
